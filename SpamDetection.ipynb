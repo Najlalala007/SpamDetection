{
 "cells": [
  {
   "cell_type": "code",
   "execution_count": null,
   "id": "e1592f6a",
   "metadata": {
    "executionInfo": {
     "elapsed": 2416,
     "status": "ok",
     "timestamp": 1717818229336,
     "user": {
      "displayName": "GINA PURNAMA INSANY",
      "userId": "16784212052694610084"
     },
     "user_tz": -420
    },
    "id": "e1592f6a"
   },
   "outputs": [],
   "source": [
    "import pandas as pd\n",
    "from sklearn.feature_extraction.text import CountVectorizer\n",
    "from sklearn.model_selection import train_test_split\n",
    "from sklearn.naive_bayes import MultinomialNB\n",
    "import joblib\n",
    "import pandas as pd\n"
   ]
  },
  {
   "cell_type": "code",
   "execution_count": null,
   "id": "bc4005bd",
   "metadata": {
    "colab": {
     "base_uri": "https://localhost:8080/",
     "height": 206
    },
    "executionInfo": {
     "elapsed": 622,
     "status": "ok",
     "timestamp": 1717818423404,
     "user": {
      "displayName": "GINA PURNAMA INSANY",
      "userId": "16784212052694610084"
     },
     "user_tz": -420
    },
    "id": "bc4005bd",
    "outputId": "ca45d89d-5c24-4711-81d9-d8bfc781cf80"
   },
   "outputs": [],
   "source": [
    "# Membaca dataset/read daraset\n",
    "data = pd.read_csv('SMSSpamCollection', sep='\\t', header=None, names=['label', 'message'])\n",
    "\n",
    "# Melihat beberapa baris data/ View the 5 first data\n",
    "data.head()\n",
    "\n"
   ]
  },
  {
   "cell_type": "code",
   "execution_count": null,
   "id": "4c086fb7",
   "metadata": {
    "executionInfo": {
     "elapsed": 511,
     "status": "ok",
     "timestamp": 1717818436175,
     "user": {
      "displayName": "GINA PURNAMA INSANY",
      "userId": "16784212052694610084"
     },
     "user_tz": -420
    },
    "id": "4c086fb7"
   },
   "outputs": [],
   "source": [
    "# Mengonversi label menjadi angka/converts label into number\n",
    "data['label'] = data['label'].map({'ham': 0, 'spam': 1})\n",
    "\n",
    "# Memisahkan fitur dan label/ split feature and label\n",
    "X = data['message']\n",
    "y = data['label']\n"
   ]
  },
  {
   "cell_type": "code",
   "execution_count": null,
   "id": "af7ff3c6",
   "metadata": {
    "executionInfo": {
     "elapsed": 519,
     "status": "ok",
     "timestamp": 1717818439999,
     "user": {
      "displayName": "GINA PURNAMA INSANY",
      "userId": "16784212052694610084"
     },
     "user_tz": -420
    },
    "id": "af7ff3c6"
   },
   "outputs": [],
   "source": [
    "# Membagi data menjadi set pelatihan dan pengujian/ divide data into train and test data\n",
    "X_train, X_test, y_train, y_test = train_test_split(X, y, test_size=0.2, random_state=42)\n"
   ]
  },
  {
   "cell_type": "code",
   "execution_count": null,
   "id": "152fb37d",
   "metadata": {
    "executionInfo": {
     "elapsed": 1232,
     "status": "ok",
     "timestamp": 1717818447428,
     "user": {
      "displayName": "GINA PURNAMA INSANY",
      "userId": "16784212052694610084"
     },
     "user_tz": -420
    },
    "id": "152fb37d"
   },
   "outputs": [],
   "source": [
    "# Mengonversi teks menjadi fitur numerik/converts text into numeric (using TDM COunt Vectorizer)\n",
    "vectorizer = CountVectorizer()\n",
    "X_train_transformed = vectorizer.fit_transform(X_train)\n",
    "X_test_transformed = vectorizer.transform(X_test)\n"
   ]
  },
  {
   "cell_type": "code",
   "execution_count": null,
   "id": "907cf015",
   "metadata": {
    "colab": {
     "base_uri": "https://localhost:8080/",
     "height": 74
    },
    "executionInfo": {
     "elapsed": 12,
     "status": "ok",
     "timestamp": 1717818450590,
     "user": {
      "displayName": "GINA PURNAMA INSANY",
      "userId": "16784212052694610084"
     },
     "user_tz": -420
    },
    "id": "907cf015",
    "outputId": "4d774297-5cd2-4f66-a45f-62a49534e5ab"
   },
   "outputs": [],
   "source": [
    "# Melatih model / train model using Naive Bayes Classifier\n",
    "model = MultinomialNB()\n",
    "model.fit(X_train_transformed, y_train)\n"
   ]
  },
  {
   "cell_type": "code",
   "execution_count": null,
   "id": "1e1fd041",
   "metadata": {
    "colab": {
     "base_uri": "https://localhost:8080/"
    },
    "executionInfo": {
     "elapsed": 514,
     "status": "ok",
     "timestamp": 1717818459175,
     "user": {
      "displayName": "GINA PURNAMA INSANY",
      "userId": "16784212052694610084"
     },
     "user_tz": -420
    },
    "id": "1e1fd041",
    "outputId": "be12925d-0282-4767-d326-12a44d4b0064"
   },
   "outputs": [],
   "source": [
    "# Menyimpan model dan vectorizer/ save training model and vectorizer\n",
    "joblib.dump(model, 'text_classifier_model.pkl')\n",
    "joblib.dump(vectorizer, 'vectorizer.pkl')\n"
   ]
  },
  {
   "cell_type": "code",
   "execution_count": null,
   "id": "5b307f53-339b-4b1c-9f37-51769f072595",
   "metadata": {},
   "outputs": [],
   "source": []
  }
 ],
 "metadata": {
  "colab": {
   "provenance": []
  },
  "kernelspec": {
   "display_name": "Python 3 (ipykernel)",
   "language": "python",
   "name": "python3"
  },
  "language_info": {
   "codemirror_mode": {
    "name": "ipython",
    "version": 3
   },
   "file_extension": ".py",
   "mimetype": "text/x-python",
   "name": "python",
   "nbconvert_exporter": "python",
   "pygments_lexer": "ipython3",
   "version": "3.11.5"
  }
 },
 "nbformat": 4,
 "nbformat_minor": 5
}
